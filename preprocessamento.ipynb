{
 "cells": [
  {
   "cell_type": "markdown",
   "id": "057b50e8",
   "metadata": {},
   "source": [
    "# Importação das Bibliotecas"
   ]
  },
  {
   "cell_type": "code",
   "execution_count": 9,
   "id": "0452f810",
   "metadata": {},
   "outputs": [],
   "source": [
    "import pandas as pd\n",
    "from sklearn.model_selection import train_test_split"
   ]
  },
  {
   "cell_type": "markdown",
   "id": "4d7bc0da",
   "metadata": {},
   "source": [
    "# Pré-processamento dos Dados"
   ]
  },
  {
   "cell_type": "code",
   "execution_count": 10,
   "id": "dac20e78",
   "metadata": {},
   "outputs": [],
   "source": [
    "dataset = pd.read_csv(\"HC_TABELA_IGG.csv\", sep='|')\n",
    "\n",
    "dataset['RESULTADO'] = dataset['RESULTADO'].map({'Reagente': 1, 'Não reagente': 0, 'Inconclusivo': 0.5})\n",
    "\n",
    "x = dataset[['INDICE']].values\n",
    "y = dataset['RESULTADO'].values\n",
    "\n",
    "x_train, x_test, y_train, y_test = train_test_split(x, y, test_size=0.2, random_state=0)"
   ]
  },
  {
   "cell_type": "code",
   "execution_count": null,
   "id": "5781ee8f",
   "metadata": {},
   "outputs": [],
   "source": []
  }
 ],
 "metadata": {
  "kernelspec": {
   "display_name": "Python 3 (ipykernel)",
   "language": "python",
   "name": "python3"
  },
  "language_info": {
   "codemirror_mode": {
    "name": "ipython",
    "version": 3
   },
   "file_extension": ".py",
   "mimetype": "text/x-python",
   "name": "python",
   "nbconvert_exporter": "python",
   "pygments_lexer": "ipython3",
   "version": "3.7.0"
  }
 },
 "nbformat": 4,
 "nbformat_minor": 5
}
