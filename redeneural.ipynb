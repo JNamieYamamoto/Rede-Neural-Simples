{
 "cells": [
  {
   "cell_type": "markdown",
   "id": "fb2c4cd8",
   "metadata": {},
   "source": [
    "# Importação das Bibliotecas"
   ]
  },
  {
   "cell_type": "code",
   "execution_count": 4,
   "id": "9a6c0886",
   "metadata": {},
   "outputs": [],
   "source": [
    "import torch\n",
    "import torch.nn as nn\n",
    "import torch.nn.functional as F"
   ]
  },
  {
   "cell_type": "markdown",
   "id": "cb75b4cb",
   "metadata": {},
   "source": [
    "# Definição de Parâmetros"
   ]
  },
  {
   "cell_type": "code",
   "execution_count": 5,
   "id": "4907243a",
   "metadata": {},
   "outputs": [],
   "source": [
    "epochs = 100\n",
    "learning_rate = 0.01"
   ]
  },
  {
   "cell_type": "markdown",
   "id": "2e9a1b1f",
   "metadata": {},
   "source": [
    "# Arquitetura da Rede Neural"
   ]
  },
  {
   "cell_type": "code",
   "execution_count": 6,
   "id": "64bb8677",
   "metadata": {},
   "outputs": [],
   "source": [
    "class COVID_predictor(nn.Module):\n",
    "    def __init__(self):\n",
    "        super(COVID_predictor, self).__init__()\n",
    "        self.fc1 = nn.Linear(1, 16)\n",
    "        self.fc2 = nn.Linear(16, 16)\n",
    "        self.output = nn.Linear(16, 1)\n",
    "        \n",
    "        self.dropout = nn.Dropout(p=0.2)\n",
    "\n",
    "    def forward(self, x):\n",
    "        x = F.relu(self.fc1(x))\n",
    "        x = self.dropout(x)\n",
    "        x = F.relu(self.fc2(x))\n",
    "        x = self.dropout(x)\n",
    "        x = torch.sigmoid(self.output(x))\n",
    "        return x\n"
   ]
  },
  {
   "cell_type": "markdown",
   "id": "a7b557f8",
   "metadata": {},
   "source": [
    "# Instanciando Custo e Otimizador"
   ]
  },
  {
   "cell_type": "code",
   "execution_count": 7,
   "id": "5702df92",
   "metadata": {},
   "outputs": [],
   "source": [
    "device = torch.device(\"cuda\" if torch.cuda.is_available() else \"cpu\")\n",
    "model = COVID_predictor().to(device)\n",
    "criterion = nn.BCELoss()\n",
    "optimizer = torch.optim.Adam(model.parameters(), lr=learning_rate)"
   ]
  },
  {
   "cell_type": "markdown",
   "id": "00101f53",
   "metadata": {},
   "source": [
    "# Cálculo da Acurácia"
   ]
  },
  {
   "cell_type": "code",
   "execution_count": 8,
   "id": "1667694f",
   "metadata": {},
   "outputs": [],
   "source": [
    "def accuracy(outputs, labels):\n",
    "    preds = outputs.round()  # Arredonda para 0 ou 1 (binário)\n",
    "    return (preds == labels).sum().item() / len(labels)"
   ]
  },
  {
   "cell_type": "markdown",
   "id": "dae02022",
   "metadata": {},
   "source": [
    "# Funções de Treinamento e Teste"
   ]
  },
  {
   "cell_type": "code",
   "execution_count": 9,
   "id": "c3e6d3a6",
   "metadata": {},
   "outputs": [],
   "source": [
    "def train(model, device, X_train, y_train, criterion, optimizer, epoch):\n",
    "    model.train()\n",
    "    inputs = torch.tensor(X_train, dtype=torch.float32).to(device)\n",
    "    labels = torch.tensor(y_train, dtype=torch.float32).to(device)\n",
    "    \n",
    "    outputs = model(inputs)\n",
    "    loss = criterion(outputs, labels.unsqueeze(1))\n",
    "    \n",
    "    optimizer.zero_grad()\n",
    "    loss.backward()\n",
    "    optimizer.step()\n",
    "\n",
    "    # Calcular acurácia\n",
    "    acc = accuracy(outputs, labels.unsqueeze(1))\n",
    "    \n",
    "    if (epoch + 1) % 10 == 0:\n",
    "        print()\n",
    "        print(f'Epoch [{epoch+1}/{epochs}], Loss: {loss.item():.4f}, Accuracy: {acc:.4f}')\n",
    "        print()\n",
    "        \n",
    "def test(model, device, X_test, y_test, criterion):\n",
    "    model.eval()\n",
    "    with torch.no_grad():\n",
    "        inputs = torch.tensor(X_test, dtype=torch.float32).to(device)\n",
    "        labels = torch.tensor(y_test, dtype=torch.float32).to(device)\n",
    "        \n",
    "        outputs = model(inputs)\n",
    "        loss = criterion(outputs, labels.unsqueeze(1))\n",
    "        acc = accuracy(outputs, labels.unsqueeze(1))\n",
    "        \n",
    "    print(f'Test Loss: {loss.item():.4f}, Test Accuracy: {acc:.4f}')\n",
    "\n"
   ]
  },
  {
   "cell_type": "markdown",
   "id": "343f6844",
   "metadata": {},
   "source": [
    "# Execução dos Treinamentos e dos Testes"
   ]
  },
  {
   "cell_type": "code",
   "execution_count": 10,
   "id": "850eb612",
   "metadata": {},
   "outputs": [],
   "source": [
    "for epoch in range(epochs):\n",
    "    train(model, device, x_train, y_train, criterion, optimizer, epoch)\n",
    "    test(model, device, x_test, y_test, criterion)"
   ]
  },
  {
   "cell_type": "markdown",
   "id": "bd240252",
   "metadata": {},
   "source": [
    "# Visualizando os Resultados"
   ]
  },
  {
   "cell_type": "code",
   "execution_count": null,
   "id": "d7377202",
   "metadata": {},
   "outputs": [],
   "source": [
    "num_samples = 10\n",
    "inputs = torch.tensor(x_test[:num_samples], dtype=torch.float32).to(device)\n",
    "indices = x_test[:num_samples].flatten()\n",
    "true_labels = y_test[:num_samples]\n",
    "\n",
    "with torch.no_grad():\n",
    "    outputs = model(inputs)\n",
    "    preds = outputs.round().flatten()\n",
    "\n",
    "results = pd.DataFrame({\n",
    "    'Índice': indices,\n",
    "    'Predição': preds,\n",
    "    'Label': true_labels\n",
    "})\n",
    "\n",
    "print()\n",
    "print(results.to_string(index=False, float_format=\"%.2f\"))"
   ]
  }
 ],
 "metadata": {
  "kernelspec": {
   "display_name": "Python 3 (ipykernel)",
   "language": "python",
   "name": "python3"
  },
  "language_info": {
   "codemirror_mode": {
    "name": "ipython",
    "version": 3
   },
   "file_extension": ".py",
   "mimetype": "text/x-python",
   "name": "python",
   "nbconvert_exporter": "python",
   "pygments_lexer": "ipython3",
   "version": "3.7.0"
  }
 },
 "nbformat": 4,
 "nbformat_minor": 5
}
