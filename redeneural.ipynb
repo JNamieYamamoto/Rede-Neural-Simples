{
 "cells": [
  {
   "cell_type": "markdown",
   "id": "fb2c4cd8",
   "metadata": {},
   "source": [
    "# Importação das Bibliotecas"
   ]
  },
  {
   "cell_type": "code",
   "execution_count": 4,
   "id": "9a6c0886",
   "metadata": {},
   "outputs": [],
   "source": [
    "import torch\n",
    "import torch.nn as nn\n",
    "import torch.nn.functional as F"
   ]
  },
  {
   "cell_type": "markdown",
   "id": "cb75b4cb",
   "metadata": {},
   "source": [
    "# Definição de Parâmetros"
   ]
  },
  {
   "cell_type": "code",
   "execution_count": 5,
   "id": "4907243a",
   "metadata": {},
   "outputs": [],
   "source": [
    "epochs = 100\n",
    "learning_rate = 0.01"
   ]
  },
  {
   "cell_type": "markdown",
   "id": "2e9a1b1f",
   "metadata": {},
   "source": [
    "# Arquitetura da Rede Neural"
   ]
  },
  {
   "cell_type": "code",
   "execution_count": 6,
   "id": "64bb8677",
   "metadata": {},
   "outputs": [],
   "source": [
    "class COVID_predictor(nn.Module):\n",
    "    def __init__(self):\n",
    "        super(COVID_predictor, self).__init__()\n",
    "        self.fc1 = nn.Linear(1, 16)\n",
    "        self.fc2 = nn.Linear(16, 16)\n",
    "        self.output = nn.Linear(16, 1)\n",
    "        \n",
    "        self.dropout = nn.Dropout(p=0.2)\n",
    "\n",
    "    def forward(self, x):\n",
    "        x = F.relu(self.fc1(x))\n",
    "        x = self.dropout(x)\n",
    "        x = F.relu(self.fc2(x))\n",
    "        x = self.dropout(x)\n",
    "        x = torch.sigmoid(self.output(x))\n",
    "        return x\n"
   ]
  },
  {
   "cell_type": "markdown",
   "id": "a7b557f8",
   "metadata": {},
   "source": [
    "# Instanciando Custo e Otimizador"
   ]
  },
  {
   "cell_type": "code",
   "execution_count": 7,
   "id": "5702df92",
   "metadata": {},
   "outputs": [],
   "source": [
    "device = torch.device(\"cuda\" if torch.cuda.is_available() else \"cpu\")\n",
    "model = COVID_predictor().to(device)\n",
    "criterion = nn.BCELoss()\n",
    "optimizer = torch.optim.Adam(model.parameters(), lr=learning_rate)"
   ]
  },
  {
   "cell_type": "markdown",
   "id": "00101f53",
   "metadata": {},
   "source": [
    "# Cálculo da Acurácia"
   ]
  },
  {
   "cell_type": "code",
   "execution_count": 8,
   "id": "1667694f",
   "metadata": {},
   "outputs": [],
   "source": [
    "def accuracy(outputs, labels):\n",
    "    preds = outputs.round()  # Arredonda para 0 ou 1 (binário)\n",
    "    return (preds == labels).sum().item() / len(labels)"
   ]
  },
  {
   "cell_type": "markdown",
   "id": "dae02022",
   "metadata": {},
   "source": [
    "# Funções de Treinamento e Teste"
   ]
  },
  {
   "cell_type": "code",
   "execution_count": 9,
   "id": "c3e6d3a6",
   "metadata": {},
   "outputs": [],
   "source": [
    "def train(model, device, X_train, y_train, criterion, optimizer, epoch):\n",
    "    model.train()\n",
    "    inputs = torch.tensor(X_train, dtype=torch.float32).to(device)\n",
    "    labels = torch.tensor(y_train, dtype=torch.float32).to(device)\n",
    "    \n",
    "    outputs = model(inputs)\n",
    "    loss = criterion(outputs, labels.unsqueeze(1))\n",
    "    \n",
    "    optimizer.zero_grad()\n",
    "    loss.backward()\n",
    "    optimizer.step()\n",
    "\n",
    "    # Calcular acurácia\n",
    "    acc = accuracy(outputs, labels.unsqueeze(1))\n",
    "    \n",
    "    if (epoch + 1) % 10 == 0:\n",
    "        print()\n",
    "        print(f'Epoch [{epoch+1}/{epochs}], Loss: {loss.item():.4f}, Accuracy: {acc:.4f}')\n",
    "        print()\n",
    "        \n",
    "def test(model, device, X_test, y_test, criterion):\n",
    "    model.eval()\n",
    "    with torch.no_grad():\n",
    "        inputs = torch.tensor(X_test, dtype=torch.float32).to(device)\n",
    "        labels = torch.tensor(y_test, dtype=torch.float32).to(device)\n",
    "        \n",
    "        outputs = model(inputs)\n",
    "        loss = criterion(outputs, labels.unsqueeze(1))\n",
    "        acc = accuracy(outputs, labels.unsqueeze(1))\n",
    "        \n",
    "    print(f'Test Loss: {loss.item():.4f}, Test Accuracy: {acc:.4f}')\n",
    "\n"
   ]
  },
  {
   "cell_type": "markdown",
   "id": "343f6844",
   "metadata": {},
   "source": [
    "# Execução dos Treinamentos e dos Testes"
   ]
  },
  {
   "cell_type": "code",
   "execution_count": 10,
   "id": "850eb612",
   "metadata": {},
   "outputs": [],
   "source": [
    "for epoch in range(epochs):\n",
    "    train(model, device, x_train, y_train, criterion, optimizer, epoch)\n",
    "    test(model, device, x_test, y_test, criterion)"
   ]
  },
  {
   "cell_type": "markdown",
   "id": "bd240252",
   "metadata": {},
   "source": [
    "# Visualizando os Resultados"
   ]
  },
  {
   "cell_type": "code",
   "execution_count": null,
   "id": "d7377202",
   "metadata": {},
   "outputs": [
    {
     "name": "stdout",
     "output_type": "stream",
     "text": [
      "Test Loss: 0.4541, Test Accuracy: 0.6118\n",
      "Test Loss: 0.4180, Test Accuracy: 0.6118\n",
      "Test Loss: 0.3944, Test Accuracy: 0.6118\n",
      "Test Loss: 0.3788, Test Accuracy: 0.6118\n",
      "Test Loss: 0.3677, Test Accuracy: 0.6118\n",
      "Test Loss: 0.3587, Test Accuracy: 0.6118\n",
      "Test Loss: 0.3498, Test Accuracy: 0.6118\n",
      "Test Loss: 0.3406, Test Accuracy: 0.6118\n",
      "Test Loss: 0.3307, Test Accuracy: 0.6118\n",
      "\n",
      "Epoch [10/100], Loss: 0.3107, Accuracy: 0.7035\n",
      "\n",
      "Test Loss: 0.3200, Test Accuracy: 0.6118\n",
      "Test Loss: 0.3091, Test Accuracy: 0.6776\n",
      "Test Loss: 0.2985, Test Accuracy: 0.8618\n",
      "Test Loss: 0.2881, Test Accuracy: 0.9145\n",
      "Test Loss: 0.2782, Test Accuracy: 0.9408\n",
      "Test Loss: 0.2687, Test Accuracy: 0.9737\n",
      "Test Loss: 0.2592, Test Accuracy: 0.9737\n",
      "Test Loss: 0.2497, Test Accuracy: 0.9737\n",
      "Test Loss: 0.2402, Test Accuracy: 0.9868\n",
      "Test Loss: 0.2312, Test Accuracy: 0.9868\n",
      "\n",
      "Epoch [20/100], Loss: 0.2156, Accuracy: 0.9621\n",
      "\n",
      "Test Loss: 0.2225, Test Accuracy: 0.9868\n",
      "Test Loss: 0.2139, Test Accuracy: 0.9868\n",
      "Test Loss: 0.2057, Test Accuracy: 0.9868\n",
      "Test Loss: 0.1980, Test Accuracy: 0.9868\n",
      "Test Loss: 0.1908, Test Accuracy: 0.9868\n",
      "Test Loss: 0.1837, Test Accuracy: 0.9868\n",
      "Test Loss: 0.1769, Test Accuracy: 0.9868\n",
      "Test Loss: 0.1704, Test Accuracy: 0.9868\n",
      "Test Loss: 0.1640, Test Accuracy: 0.9868\n",
      "Test Loss: 0.1577, Test Accuracy: 0.9868\n",
      "\n",
      "Epoch [30/100], Loss: 0.1530, Accuracy: 0.9769\n",
      "\n",
      "Test Loss: 0.1515, Test Accuracy: 0.9868\n",
      "Test Loss: 0.1454, Test Accuracy: 0.9868\n",
      "Test Loss: 0.1394, Test Accuracy: 0.9868\n",
      "Test Loss: 0.1334, Test Accuracy: 0.9868\n",
      "Test Loss: 0.1276, Test Accuracy: 0.9868\n",
      "Test Loss: 0.1220, Test Accuracy: 0.9868\n",
      "Test Loss: 0.1165, Test Accuracy: 0.9868\n",
      "Test Loss: 0.1111, Test Accuracy: 0.9868\n",
      "Test Loss: 0.1060, Test Accuracy: 0.9868\n",
      "Test Loss: 0.1009, Test Accuracy: 0.9868\n",
      "\n",
      "Epoch [40/100], Loss: 0.1055, Accuracy: 0.9786\n",
      "\n",
      "Test Loss: 0.0961, Test Accuracy: 0.9868\n",
      "Test Loss: 0.0914, Test Accuracy: 0.9868\n",
      "Test Loss: 0.0871, Test Accuracy: 0.9868\n",
      "Test Loss: 0.0830, Test Accuracy: 0.9868\n",
      "Test Loss: 0.0790, Test Accuracy: 0.9868\n",
      "Test Loss: 0.0751, Test Accuracy: 0.9868\n",
      "Test Loss: 0.0714, Test Accuracy: 0.9868\n",
      "Test Loss: 0.0679, Test Accuracy: 0.9868\n",
      "Test Loss: 0.0646, Test Accuracy: 0.9868\n",
      "Test Loss: 0.0614, Test Accuracy: 0.9868\n",
      "\n",
      "Epoch [50/100], Loss: 0.0858, Accuracy: 0.9786\n",
      "\n",
      "Test Loss: 0.0583, Test Accuracy: 0.9868\n",
      "Test Loss: 0.0554, Test Accuracy: 0.9868\n",
      "Test Loss: 0.0527, Test Accuracy: 0.9868\n",
      "Test Loss: 0.0501, Test Accuracy: 0.9868\n",
      "Test Loss: 0.0477, Test Accuracy: 0.9868\n",
      "Test Loss: 0.0455, Test Accuracy: 0.9868\n",
      "Test Loss: 0.0436, Test Accuracy: 0.9868\n",
      "Test Loss: 0.0417, Test Accuracy: 0.9868\n",
      "Test Loss: 0.0400, Test Accuracy: 0.9868\n",
      "Test Loss: 0.0384, Test Accuracy: 0.9868\n",
      "\n",
      "Epoch [60/100], Loss: 0.0623, Accuracy: 0.9769\n",
      "\n",
      "Test Loss: 0.0368, Test Accuracy: 0.9868\n",
      "Test Loss: 0.0353, Test Accuracy: 0.9868\n",
      "Test Loss: 0.0339, Test Accuracy: 0.9868\n",
      "Test Loss: 0.0327, Test Accuracy: 0.9868\n",
      "Test Loss: 0.0314, Test Accuracy: 0.9868\n",
      "Test Loss: 0.0303, Test Accuracy: 0.9868\n",
      "Test Loss: 0.0293, Test Accuracy: 0.9868\n",
      "Test Loss: 0.0283, Test Accuracy: 0.9868\n",
      "Test Loss: 0.0273, Test Accuracy: 0.9868\n",
      "Test Loss: 0.0264, Test Accuracy: 0.9868\n",
      "\n",
      "Epoch [70/100], Loss: 0.0632, Accuracy: 0.9769\n",
      "\n",
      "Test Loss: 0.0256, Test Accuracy: 0.9868\n",
      "Test Loss: 0.0249, Test Accuracy: 0.9868\n",
      "Test Loss: 0.0241, Test Accuracy: 0.9868\n",
      "Test Loss: 0.0234, Test Accuracy: 0.9868\n",
      "Test Loss: 0.0227, Test Accuracy: 0.9868\n",
      "Test Loss: 0.0220, Test Accuracy: 0.9868\n",
      "Test Loss: 0.0214, Test Accuracy: 0.9868\n",
      "Test Loss: 0.0208, Test Accuracy: 0.9868\n",
      "Test Loss: 0.0202, Test Accuracy: 0.9868\n",
      "Test Loss: 0.0197, Test Accuracy: 0.9868\n",
      "\n",
      "Epoch [80/100], Loss: 0.0449, Accuracy: 0.9802\n",
      "\n",
      "Test Loss: 0.0192, Test Accuracy: 0.9868\n",
      "Test Loss: 0.0187, Test Accuracy: 0.9868\n",
      "Test Loss: 0.0181, Test Accuracy: 0.9868\n",
      "Test Loss: 0.0176, Test Accuracy: 0.9868\n",
      "Test Loss: 0.0171, Test Accuracy: 0.9868\n",
      "Test Loss: 0.0166, Test Accuracy: 0.9868\n",
      "Test Loss: 0.0163, Test Accuracy: 0.9868\n",
      "Test Loss: 0.0159, Test Accuracy: 0.9868\n",
      "Test Loss: 0.0157, Test Accuracy: 0.9868\n",
      "Test Loss: 0.0153, Test Accuracy: 0.9868\n",
      "\n",
      "Epoch [90/100], Loss: 0.0336, Accuracy: 0.9819\n",
      "\n",
      "Test Loss: 0.0149, Test Accuracy: 0.9868\n",
      "Test Loss: 0.0144, Test Accuracy: 0.9868\n",
      "Test Loss: 0.0139, Test Accuracy: 0.9868\n",
      "Test Loss: 0.0135, Test Accuracy: 0.9868\n",
      "Test Loss: 0.0132, Test Accuracy: 0.9868\n",
      "Test Loss: 0.0130, Test Accuracy: 0.9868\n",
      "Test Loss: 0.0128, Test Accuracy: 0.9868\n",
      "Test Loss: 0.0127, Test Accuracy: 0.9868\n",
      "Test Loss: 0.0125, Test Accuracy: 0.9868\n",
      "Test Loss: 0.0124, Test Accuracy: 0.9868\n",
      "\n",
      "Epoch [100/100], Loss: 0.0302, Accuracy: 0.9819\n",
      "\n",
      "Test Loss: 0.0122, Test Accuracy: 0.9868\n",
      "\n",
      " Índice  Predição  Label\n",
      "   0.20      0.00   0.00\n",
      "   3.30      1.00   1.00\n",
      "   0.20      0.00   0.00\n",
      "  12.60      1.00   1.00\n",
      "   0.30      0.00   0.00\n",
      "   8.30      1.00   1.00\n",
      "  10.40      1.00   1.00\n",
      "   0.20      0.00   0.00\n",
      "  10.00      1.00   1.00\n",
      "   0.20      0.00   0.00\n"
     ]
    }
   ],
   "source": [
    "num_samples = 10\n",
    "inputs = torch.tensor(x_test[:num_samples], dtype=torch.float32).to(device)\n",
    "indices = x_test[:num_samples].flatten()\n",
    "true_labels = y_test[:num_samples]\n",
    "\n",
    "with torch.no_grad():\n",
    "    outputs = model(inputs)\n",
    "    preds = outputs.round().flatten()\n",
    "\n",
    "results = pd.DataFrame({\n",
    "    'Índice': indices,\n",
    "    'Predição': preds,\n",
    "    'Label': true_labels\n",
    "})\n",
    "\n",
    "print()\n",
    "print(results.to_string(index=False, float_format=\"%.2f\"))"
   ]
  }
 ],
 "metadata": {
  "kernelspec": {
   "display_name": "Python 3 (ipykernel)",
   "language": "python",
   "name": "python3"
  },
  "language_info": {
   "codemirror_mode": {
    "name": "ipython",
    "version": 3
   },
   "file_extension": ".py",
   "mimetype": "text/x-python",
   "name": "python",
   "nbconvert_exporter": "python",
   "pygments_lexer": "ipython3",
   "version": "3.7.0"
  }
 },
 "nbformat": 4,
 "nbformat_minor": 5
}
